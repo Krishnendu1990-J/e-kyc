{
  "nbformat": 4,
  "nbformat_minor": 0,
  "metadata": {
    "colab": {
      "name": "ocr_to_text_final.ipynb",
      "provenance": []
    },
    "kernelspec": {
      "name": "python3",
      "display_name": "Python 3"
    },
    "language_info": {
      "name": "python"
    }
  },
  "cells": [
    {
      "cell_type": "code",
      "execution_count": null,
      "metadata": {
        "colab": {
          "base_uri": "https://localhost:8080/"
        },
        "id": "bgYCfIkFhTIW",
        "outputId": "fd32eff0-e8e3-423f-fed4-59784b80e1fa"
      },
      "outputs": [
        {
          "output_type": "stream",
          "name": "stdout",
          "text": [
            "Looking in indexes: https://pypi.org/simple, https://us-python.pkg.dev/colab-wheels/public/simple/\n",
            "Collecting easyocr\n",
            "  Downloading easyocr-1.5.0-py3-none-any.whl (70.8 MB)\n",
            "\u001b[K     |████████████████████████████████| 70.8 MB 15 kB/s \n",
            "\u001b[?25hInstalling collected packages: easyocr\n",
            "Successfully installed easyocr-1.5.0\n",
            "Looking in indexes: https://pypi.org/simple, https://us-python.pkg.dev/colab-wheels/public/simple/\n",
            "Collecting python-bidi\n",
            "  Downloading python_bidi-0.4.2-py2.py3-none-any.whl (30 kB)\n",
            "Requirement already satisfied: six in /usr/local/lib/python3.7/dist-packages (from python-bidi) (1.15.0)\n",
            "Installing collected packages: python-bidi\n",
            "\u001b[31mERROR: pip's dependency resolver does not currently take into account all the packages that are installed. This behaviour is the source of the following dependency conflicts.\n",
            "easyocr 1.5.0 requires opencv-python-headless<=4.5.4.60, which is not installed.\u001b[0m\n",
            "Successfully installed python-bidi-0.4.2\n"
          ]
        }
      ],
      "source": [
        "!pip install easyocr --no-deps\n",
        "!pip install python-bidi"
      ]
    },
    {
      "cell_type": "code",
      "source": [
        "import cv2\n",
        "import matplotlib.pyplot as plt\n",
        "from google.colab.patches import cv2_imshow\n",
        "import numpy as np\n",
        "import easyocr"
      ],
      "metadata": {
        "id": "k95QhuoIhatu"
      },
      "execution_count": null,
      "outputs": []
    },
    {
      "cell_type": "code",
      "source": [
        "def get_extracted_array(img):\n",
        "  #specify shortform of language you want to extract,\n",
        "  # I am using Hindi(hi) and English(en) here by list of language ids\n",
        "  reader = easyocr.Reader(['en'])\n",
        "\n",
        "  # Doing OCR. Get bounding boxes.\n",
        "  bounds = reader.readtext(img)\n",
        "  dicts = {}\n",
        "  keys = len(bounds)\n",
        "  for i in range(keys):\n",
        "    conf = bounds[i][2]\n",
        "    if conf > 0.35:\n",
        "      dicts[i] = bounds[i][1]\n",
        "\n",
        "  return dicts"
      ],
      "metadata": {
        "id": "RPAqgskNhpHe"
      },
      "execution_count": null,
      "outputs": []
    },
    {
      "cell_type": "code",
      "source": [
        "img = cv2.imread('/content/sh_college_id.jpg')\n",
        "dicts = get_extracted_array(img)"
      ],
      "metadata": {
        "colab": {
          "base_uri": "https://localhost:8080/"
        },
        "id": "ZM1eXxr-jMS4",
        "outputId": "95a84608-f6fd-4de1-b2a7-fe4b8c1b341f"
      },
      "execution_count": null,
      "outputs": [
        {
          "output_type": "stream",
          "name": "stderr",
          "text": [
            "CUDA not available - defaulting to CPU. Note: This module is much faster with a GPU.\n"
          ]
        }
      ]
    },
    {
      "cell_type": "code",
      "source": [
        "dicts"
      ],
      "metadata": {
        "colab": {
          "base_uri": "https://localhost:8080/"
        },
        "id": "FV0hFX0Y-t2e",
        "outputId": "ecbdb02e-9483-43c2-cdcb-86a0f7d09fe1"
      },
      "execution_count": null,
      "outputs": [
        {
          "output_type": "execute_result",
          "data": {
            "text/plain": [
              "{0: 'SAcRI V',\n",
              " 2: 'SH',\n",
              " 5: 'GAYATHRI SEKHAR',\n",
              " 6: '21UCCA1918',\n",
              " 7: 'E COM COMPUTER APPLICATION',\n",
              " 8: 'Principal',\n",
              " 9: '91484',\n",
              " 10: 'Kochi 682 014, Kerailo',\n",
              " 13: 'eastcampusia',\n",
              " 15: 'EAST CAMPUS',\n",
              " 18: 'ac In',\n",
              " 19: 'Tevaiu',\n",
              " 20: 'shcollege:',\n",
              " 21: 'shcollege:',\n",
              " 22: 'shcollege:'}"
            ]
          },
          "metadata": {},
          "execution_count": 9
        }
      ]
    },
    {
      "cell_type": "code",
      "source": [
        "# if input image is SH college id , run this cell\n",
        "print(\"SH ID Card Details\")\n",
        "print('.................')\n",
        "\n",
        "print(\"Name : \",dicts[5])\n",
        "print(\"ID number : \",dicts[6])\n",
        "print(\"Course:\", dicts[7])\n"
      ],
      "metadata": {
        "colab": {
          "base_uri": "https://localhost:8080/"
        },
        "id": "V_4GpELI-yL6",
        "outputId": "7b33b88a-e533-4c7f-e343-8169004591a6"
      },
      "execution_count": null,
      "outputs": [
        {
          "output_type": "stream",
          "name": "stdout",
          "text": [
            "SH ID Card Details\n",
            ".................\n",
            "Name :  GAYATHRI SEKHAR\n",
            "ID number :  21UCCA1918\n",
            "Course: E COM COMPUTER APPLICATION\n"
          ]
        }
      ]
    },
    {
      "cell_type": "code",
      "source": [
        "# if input image is pan card , run this cell\n",
        "print(\"PAN Card Details\")\n",
        "print('.................')\n",
        "\n",
        "print(\"Name : \",dicts[5])\n",
        "print(\"Father's Name : \",dicts[6])\n",
        "print(\"Date of birth:\", dicts[7])\n",
        "print(\"PAN Number :\",dicts[9])"
      ],
      "metadata": {
        "colab": {
          "base_uri": "https://localhost:8080/"
        },
        "id": "26qxGP81iTwy",
        "outputId": "4caad42d-af43-4800-a85d-fd6f7d880ef2"
      },
      "execution_count": null,
      "outputs": [
        {
          "output_type": "stream",
          "name": "stdout",
          "text": [
            "PAN Card Details\n",
            ".................\n",
            "Name :  MONIKA MAHADEV SHINDE\n",
            "Father's Name :  MAHADEV SHINDE\n",
            "Date of birth: 31/10/1992\n",
            "PAN Number : EJAPSO276M\n"
          ]
        }
      ]
    },
    {
      "cell_type": "code",
      "source": [
        "#if input image is college id, run this cell\n",
        "print(\"College id Details\")\n",
        "print('.................')\n",
        "\n",
        "print(\"Name : \",dicts[3])\n",
        "print(\"Course : \",dicts[5])\n",
        "print(\"Specialisation:\", dicts[6])\n",
        "print(\"Admission no. : \",dicts[9])\n"
      ],
      "metadata": {
        "colab": {
          "base_uri": "https://localhost:8080/"
        },
        "id": "wV3jIsEui8R1",
        "outputId": "fdd734ae-b62c-4fb7-9b33-df6fe0b19d45"
      },
      "execution_count": null,
      "outputs": [
        {
          "output_type": "stream",
          "name": "stdout",
          "text": [
            "College id Details\n",
            ".................\n",
            "Name :  Deepthi Sasi\n",
            "Course :  M Tech\n",
            "Specialisation: Signal Processing\n",
            "Admission no. :  880- 20\n"
          ]
        }
      ]
    }
  ]
}